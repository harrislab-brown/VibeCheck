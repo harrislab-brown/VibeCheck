{
 "cells": [
  {
   "cell_type": "code",
   "execution_count": 148,
   "id": "72d01f8e-4b4f-486f-b8f6-6832824af6c3",
   "metadata": {},
   "outputs": [
    {
     "name": "stdout",
     "output_type": "stream",
     "text": [
      "['COM8', 'COM3']\n"
     ]
    }
   ],
   "source": [
    "import serial\n",
    "import time\n",
    "import numpy as np\n",
    "import serial.tools.list_ports\n",
    "import matplotlib.pyplot as plt\n",
    "port_list = [port.device for port in serial.tools.list_ports.comports()]\n",
    "print(port_list)"
   ]
  },
  {
   "cell_type": "code",
   "execution_count": 202,
   "id": "8e1185c2-3d55-4bd0-9216-ec8e4986873d",
   "metadata": {},
   "outputs": [],
   "source": [
    "port.close()"
   ]
  },
  {
   "cell_type": "code",
   "execution_count": 203,
   "id": "fe577819-1955-43a7-95e9-f976772f8816",
   "metadata": {},
   "outputs": [],
   "source": [
    "# Pick a port from port list:\n",
    "port = serial.Serial(port_list[0],115200)"
   ]
  },
  {
   "cell_type": "code",
   "execution_count": 133,
   "id": "0033bbe0-b423-43d3-8071-7a4b6b81982b",
   "metadata": {},
   "outputs": [],
   "source": [
    "def send_msg(msg):\n",
    "    try:\n",
    "        byte_msg = (msg + '\\n').encode('utf-8')\n",
    "        port.write(byte_msg)\n",
    "        print('message sent: ' + msg)\n",
    "    except:\n",
    "        print('message invalid')"
   ]
  },
  {
   "cell_type": "code",
   "execution_count": 134,
   "id": "1bab7768-4217-4fcc-83ae-a51c35681690",
   "metadata": {},
   "outputs": [],
   "source": [
    "def set_freq(freq):\n",
    "    send_msg('wavegen set frequency '+str(freq))\n",
    "    send_msg('wavegen start')"
   ]
  },
  {
   "cell_type": "code",
   "execution_count": 135,
   "id": "45bf75de-ff9e-45fc-8f6f-1b3a1b4b7d37",
   "metadata": {},
   "outputs": [],
   "source": [
    "def parse_data(raw_data):\n",
    "    num_points = int( raw_data[1] )\n",
    "    data_point_arr = [] #np.zeros([num_points, 5])\n",
    "    for i in range(num_points):\n",
    "        # 5 is number of elements in each datapoint, 2 is index of first piece of data\n",
    "        start_index = i * 5 + 2\n",
    "        data_point = raw_data[start_index:start_index+5]\n",
    "        data_point_arr.append(data_point)#[i] = data_point\n",
    "    return data_point_arr"
   ]
  },
  {
   "cell_type": "code",
   "execution_count": 195,
   "id": "292bb058-1c20-4b73-aa66-f71129815fd8",
   "metadata": {},
   "outputs": [],
   "source": [
    "def record_samples(num_samples, settle_time):\n",
    "    samples_recorded = 0\n",
    "    sample_arr = np.zeros([num_samples, 5]) # each datapoint will be: [channel,t,x,y,z]\n",
    "    send_msg('sensor 0 start accel')\n",
    "    time.sleep(settle_time)\n",
    "    print('done sleeping')\n",
    "    port.flush() # make sure nothing is in serial input buffer \n",
    "    print(\"begin sampling\")\n",
    "    port.readline()\n",
    "    \n",
    "    while samples_recorded < num_samples:\n",
    "        if port.in_waiting > 0: # if there is data waiting in the serial input buffer\n",
    "            newline = port.readline().decode().strip().split(\" \")\n",
    "            if newline[0] == \"data\": # if received packet is a data packet\n",
    "                data = parse_data(newline)\n",
    "                for dp in data:\n",
    "                    if(len(dp) == 0 or dp[0] != '0'):\n",
    "                        print( 'bad datapoint')\n",
    "                    else:\n",
    "                        sample_arr[samples_recorded] = dp\n",
    "                        samples_recorded += 1\n",
    "                    if samples_recorded > num_samples:\n",
    "                        break\n",
    "                \n",
    "            else:\n",
    "                print(newline)\n",
    "\n",
    "    send_msg('sensor 0 stop accel')\n",
    "    print(str(num_points) + ' samples recorded')\n",
    "    return sample_arr"
   ]
  },
  {
   "cell_type": "code",
   "execution_count": 196,
   "id": "6c9312a2-4b0a-4e63-ad85-6e5b441cf4fd",
   "metadata": {},
   "outputs": [
    {
     "name": "stdout",
     "output_type": "stream",
     "text": [
      "message sent: rgb start\n",
      "message sent: rgb stop\n"
     ]
    }
   ],
   "source": [
    "# Test serial port. Lights should animate for 3 seconds (skips lights connected to sensors)\n",
    "send_msg('rgb start')\n",
    "time.sleep(2)\n",
    "send_msg('rgb stop')"
   ]
  },
  {
   "cell_type": "code",
   "execution_count": 204,
   "id": "b5173d97-3d85-49fd-ac70-12e840045340",
   "metadata": {},
   "outputs": [
    {
     "name": "stdout",
     "output_type": "stream",
     "text": [
      "message sent: sensor 0 set accel odr 1000\n",
      "message sent: sensor 0 set accel range 8\n",
      "message sent: wavegen set amplitude 0.5\n"
     ]
    }
   ],
   "source": [
    "# initialize VibeCheck with desired data rate, amplitude\n",
    "send_msg('sensor 0 set accel odr 1000')\n",
    "send_msg('sensor 0 set accel range 8')\n",
    "send_msg('wavegen set amplitude 0.5')"
   ]
  },
  {
   "cell_type": "code",
   "execution_count": 187,
   "id": "c0bb3192-1dc8-478a-93ce-8fb6a49fc5f4",
   "metadata": {},
   "outputs": [],
   "source": [
    "# Create a list of discrete frequencies for the independent axis\n",
    "freq_list = np.linspace(20, 50, 10) # frequency: start, stop, num\n",
    "num_points = 1000 # number of datapoints to record at each frequency sample\n",
    "\n",
    "# Create an empty array to store accel. samples at each frequency\n",
    "data_array = np.empty([freq_list.size, num_samples])"
   ]
  },
  {
   "cell_type": "code",
   "execution_count": 205,
   "id": "54673d63-34a9-43d8-81ca-0d3e82d76bbc",
   "metadata": {},
   "outputs": [
    {
     "name": "stdout",
     "output_type": "stream",
     "text": [
      "message sent: wavegen set frequency 60\n",
      "message sent: wavegen start\n",
      "message sent: sensor 0 start accel\n",
      "done sleeping\n",
      "begin sampling\n",
      "['ack']\n",
      "['ack']\n",
      "['ack']\n",
      "['ack']\n",
      "['ack']\n",
      "['ack']\n",
      "['ack']\n",
      "['7', '0.084473', '-7.993652', '0', '1455979847', '0.264893', '0.340088', '-7.993652', '0', '1455981008', '0.925537', '0.557617', '-7.993652', '0', '1455982168', '1.344238', '0.696045', '-7.993652', '0', '1455983329', '1.457764', '0.716797', '-7.993652', '0', '1455984489', '1.352539', '0.520020', '-4.355957']\n",
      "bad datapoint\n",
      "bad datapoint\n",
      "bad datapoint\n",
      "bad datapoint\n",
      "bad datapoint\n"
     ]
    },
    {
     "ename": "IndexError",
     "evalue": "index 1000 is out of bounds for axis 0 with size 1000",
     "output_type": "error",
     "traceback": [
      "\u001b[1;31m---------------------------------------------------------------------------\u001b[0m",
      "\u001b[1;31mIndexError\u001b[0m                                Traceback (most recent call last)",
      "Cell \u001b[1;32mIn[205], line 5\u001b[0m\n\u001b[0;32m      3\u001b[0m send_msg(\u001b[38;5;124m'\u001b[39m\u001b[38;5;124mwavegen set frequency 60\u001b[39m\u001b[38;5;124m'\u001b[39m)\n\u001b[0;32m      4\u001b[0m send_msg(\u001b[38;5;124m'\u001b[39m\u001b[38;5;124mwavegen start\u001b[39m\u001b[38;5;124m'\u001b[39m)\n\u001b[1;32m----> 5\u001b[0m frequency_sample \u001b[38;5;241m=\u001b[39m record_samples(\u001b[38;5;241m1000\u001b[39m, \u001b[38;5;241m2\u001b[39m)\n\u001b[0;32m      6\u001b[0m send_msg(\u001b[38;5;124m'\u001b[39m\u001b[38;5;124mwavegen stop\u001b[39m\u001b[38;5;124m'\u001b[39m)\n\u001b[0;32m      7\u001b[0m frequency_sample[frequency_sample[:,\u001b[38;5;241m1\u001b[39m]\u001b[38;5;241m.\u001b[39margsort()] \u001b[38;5;66;03m# sort datapoints by time to make sure none are out of order\u001b[39;00m\n",
      "Cell \u001b[1;32mIn[195], line 20\u001b[0m, in \u001b[0;36mrecord_samples\u001b[1;34m(num_samples, settle_time)\u001b[0m\n\u001b[0;32m     18\u001b[0m     \u001b[38;5;28mprint\u001b[39m( \u001b[38;5;124m'\u001b[39m\u001b[38;5;124mbad datapoint\u001b[39m\u001b[38;5;124m'\u001b[39m)\n\u001b[0;32m     19\u001b[0m \u001b[38;5;28;01melse\u001b[39;00m:\n\u001b[1;32m---> 20\u001b[0m     sample_arr[samples_recorded] \u001b[38;5;241m=\u001b[39m dp\n\u001b[0;32m     21\u001b[0m     samples_recorded \u001b[38;5;241m+\u001b[39m\u001b[38;5;241m=\u001b[39m \u001b[38;5;241m1\u001b[39m\n\u001b[0;32m     22\u001b[0m \u001b[38;5;28;01mif\u001b[39;00m samples_recorded \u001b[38;5;241m>\u001b[39m num_samples:\n",
      "\u001b[1;31mIndexError\u001b[0m: index 1000 is out of bounds for axis 0 with size 1000"
     ]
    }
   ],
   "source": [
    "## for testing ##\n",
    "\n",
    "send_msg('wavegen set frequency 60')\n",
    "send_msg('wavegen start')\n",
    "frequency_sample = record_samples(1000, 2)\n",
    "send_msg('wavegen stop')\n",
    "frequency_sample[frequency_sample[:,1].argsort()] # sort datapoints by time to make sure none are out of order\n",
    "t = frequency_sample[:,1]\n",
    "z= frequency_sample[:,4]\n",
    "plt.plot(t,z)"
   ]
  },
  {
   "cell_type": "code",
   "execution_count": 206,
   "id": "e91cdf35-4b53-471b-8004-6704564a0866",
   "metadata": {},
   "outputs": [
    {
     "name": "stdout",
     "output_type": "stream",
     "text": [
      "message sent: sensor 0 stop accel\n"
     ]
    }
   ],
   "source": [
    "send_msg('sensor 0 stop accel')"
   ]
  },
  {
   "cell_type": "code",
   "execution_count": 171,
   "id": "32def4aa-3a4d-4cac-880a-0c714b3e36ec",
   "metadata": {},
   "outputs": [
    {
     "ename": "SyntaxError",
     "evalue": "incomplete input (705908127.py, line 2)",
     "output_type": "error",
     "traceback": [
      "\u001b[1;36m  Cell \u001b[1;32mIn[171], line 2\u001b[1;36m\u001b[0m\n\u001b[1;33m    \u001b[0m\n\u001b[1;37m    ^\u001b[0m\n\u001b[1;31mSyntaxError\u001b[0m\u001b[1;31m:\u001b[0m incomplete input\n"
     ]
    }
   ],
   "source": [
    "    "
   ]
  },
  {
   "cell_type": "code",
   "execution_count": null,
   "id": "35141dcd-63a1-4de9-9ddd-734d0cde7bbc",
   "metadata": {},
   "outputs": [],
   "source": []
  }
 ],
 "metadata": {
  "kernelspec": {
   "display_name": "Python 3 (ipykernel)",
   "language": "python",
   "name": "python3"
  },
  "language_info": {
   "codemirror_mode": {
    "name": "ipython",
    "version": 3
   },
   "file_extension": ".py",
   "mimetype": "text/x-python",
   "name": "python",
   "nbconvert_exporter": "python",
   "pygments_lexer": "ipython3",
   "version": "3.11.7"
  }
 },
 "nbformat": 4,
 "nbformat_minor": 5
}
